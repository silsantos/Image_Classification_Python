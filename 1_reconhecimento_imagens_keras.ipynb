{
 "cells": [
  {
   "cell_type": "markdown",
   "id": "3d8de0e6-50e5-4c3f-bfbb-a7ba89653a55",
   "metadata": {},
   "source": [
    "# Classificação de vídeos com PYTHON - PARTE 1"
   ]
  },
  {
   "cell_type": "markdown",
   "id": "c2797515-b192-417e-9d60-55a4bfb2d548",
   "metadata": {},
   "source": [
    "### Vídeos são um conjunto de imagens (frames) organizadas em uma determinada ordem."
   ]
  },
  {
   "cell_type": "markdown",
   "id": "d05e3743-63cc-4b5b-b3f5-468a7636ed48",
   "metadata": {},
   "source": [
    "***"
   ]
  },
  {
   "cell_type": "markdown",
   "id": "f80e104a-089e-4ea3-9a1e-82d651bbad23",
   "metadata": {},
   "source": [
    "## 1. Reconhecimento de imagens com KERAS"
   ]
  },
  {
   "cell_type": "code",
   "execution_count": 41,
   "id": "0b5daa2e-8f8b-471e-bbad-1323423ea1e5",
   "metadata": {},
   "outputs": [],
   "source": [
    "# Importação de bibliotecas;\n",
    "\n",
    "import tensorflow\n",
    "from tensorflow import keras\n",
    "import matplotlib.pyplot as plt"
   ]
  },
  {
   "cell_type": "code",
   "execution_count": 34,
   "id": "f44f4106-3124-4a35-b4c5-9e52a2eaa0fd",
   "metadata": {},
   "outputs": [],
   "source": [
    "# Acessando aos dados:\n",
    "\n",
    "dataset = keras.datasets.fashion_mnist\n",
    "((imagens_treino, id_treino), (imagens_teste, id_teste)) = dataset.load_data()     # Load_data: função do keras. Devolve 2 tuplas contendo os dados de treino e os dados de teste."
   ]
  },
  {
   "cell_type": "code",
   "execution_count": 36,
   "id": "b1381707-2e99-4d0e-bdfa-6e3c4a97b9fe",
   "metadata": {},
   "outputs": [
    {
     "data": {
      "text/plain": [
       "(60000, 28, 28)"
      ]
     },
     "execution_count": 36,
     "metadata": {},
     "output_type": "execute_result"
    }
   ],
   "source": [
    "# Investigação preliminar das imagens:\n",
    "\n",
    "imagens_treino.shape"
   ]
  },
  {
   "cell_type": "markdown",
   "id": "47d4701f-5d1a-478c-ba5e-637caea131c9",
   "metadata": {},
   "source": [
    "#### Note que são 60000 imagens descritas em 28 linhas e 28 colunas (28x28)"
   ]
  },
  {
   "cell_type": "code",
   "execution_count": 37,
   "id": "f964f017-83f7-4c9b-aa32-79e189e6e235",
   "metadata": {},
   "outputs": [
    {
     "data": {
      "text/plain": [
       "(10000, 28, 28)"
      ]
     },
     "execution_count": 37,
     "metadata": {},
     "output_type": "execute_result"
    }
   ],
   "source": [
    "imagens_teste.shape"
   ]
  },
  {
   "cell_type": "markdown",
   "id": "98a81c23-a1ca-4368-98b4-dd736678c637",
   "metadata": {},
   "source": [
    "#### São, no total, 70mil imagens de dimensões 28x28."
   ]
  },
  {
   "cell_type": "code",
   "execution_count": 40,
   "id": "8b62bca9-3ac4-4b5a-a0cd-b1a2f36409b0",
   "metadata": {},
   "outputs": [
    {
     "name": "stdout",
     "output_type": "stream",
     "text": [
      "60000\n",
      "10000\n"
     ]
    }
   ],
   "source": [
    "# Investigação preliminar das informações:\n",
    "\n",
    "print(len(id_treino))\n",
    "print(len(id_teste))"
   ]
  },
  {
   "cell_type": "code",
   "execution_count": null,
   "id": "ce78f603-e612-48cd-aafb-d8cbf869c326",
   "metadata": {},
   "outputs": [],
   "source": [
    "# Visualizando uma imagem (matplotlib):\n",
    "\n"
   ]
  }
 ],
 "metadata": {
  "kernelspec": {
   "display_name": "Python 3",
   "language": "python",
   "name": "python3"
  },
  "language_info": {
   "codemirror_mode": {
    "name": "ipython",
    "version": 3
   },
   "file_extension": ".py",
   "mimetype": "text/x-python",
   "name": "python",
   "nbconvert_exporter": "python",
   "pygments_lexer": "ipython3",
   "version": "3.8.8"
  }
 },
 "nbformat": 4,
 "nbformat_minor": 5
}
